{
 "cells": [
  {
   "cell_type": "markdown",
   "metadata": {},
   "source": [
    "'''\n",
    "    @Author: Dhananjay Kumar\n",
    "    @Date: 18-11-2024\n",
    "    @Last Modified by: Dhananjay Kumar\n",
    "    @Last Modified time: 18-11-2024\n",
    "    @Title : Probability and statistics question1\n",
    "\"\"\"\n",
    "1. Write a program to find probability of drawing an ace from pack of cards"
   ]
  },
  {
   "cell_type": "code",
   "execution_count": 1,
   "metadata": {},
   "outputs": [
    {
     "name": "stdout",
     "output_type": "stream",
     "text": [
      "Probability of getting an Ace:  0.07692307692307693\n"
     ]
    }
   ],
   "source": [
    "no_of_ace = 4\n",
    "total_cards = 52\n",
    "\n",
    "prob_ace = no_of_ace/total_cards\n",
    "print(\"Probability of getting an Ace: \", prob_ace)"
   ]
  },
  {
   "cell_type": "markdown",
   "metadata": {},
   "source": [
    "'''\n",
    "    @Author: Dhananjay Kumar\n",
    "    @Date: 18-11-2024\n",
    "    @Last Modified by: Dhananjay Kumar\n",
    "    @Last Modified time: 18-11-2024\n",
    "    @Title : Probability and statistics question2\"\"\"\n",
    "    2. Write a program to find the probability of drawing an ace after drawing a king on the first draw"
   ]
  },
  {
   "cell_type": "code",
   "execution_count": 3,
   "metadata": {},
   "outputs": [
    {
     "name": "stdout",
     "output_type": "stream",
     "text": [
      "probability of drawing an ace after drawing a king on the first draw: 0.0784313725490196\n"
     ]
    }
   ],
   "source": [
    "total_cards = 52\n",
    "no_of_ace = 4\n",
    "no_of_king = 4\n",
    "\n",
    "#total cards after drawing a King card\n",
    "remaining_cards = total_cards - 1\n",
    "print(f\"probability of drawing an ace after drawing a king on the first draw: {no_of_ace/remaining_cards}\")"
   ]
  },
  {
   "cell_type": "markdown",
   "metadata": {},
   "source": [
    "\"\"\"\n",
    "    @Author: Dhananjay Kumar\n",
    "    @Date: 18-11-2024\n",
    "    @Last Modified by: Dhananjay Kumar\n",
    "    @Last Modified time: 18-11-2024\n",
    "    @Title : Probability and statistics question3\n",
    "\"\"\"\n",
    "3.Write a program to find the probability of drawing an ace after drawing an ace on the first draw"
   ]
  },
  {
   "cell_type": "code",
   "execution_count": 4,
   "metadata": {},
   "outputs": [
    {
     "name": "stdout",
     "output_type": "stream",
     "text": [
      "probability of drawing an ace card : 0.058823529411764705\n"
     ]
    }
   ],
   "source": [
    "total_cards = 52\n",
    "num_of_aces = 4\n",
    "# total cards after drawing a ace card\n",
    "remaining_cards = total_cards - 1\n",
    "remaining_ace_card = num_of_aces -1\n",
    "\n",
    "print(f\"probability of drawing an ace card : {remaining_ace_card/remaining_cards}\")"
   ]
  },
  {
   "cell_type": "markdown",
   "metadata": {},
   "source": [
    "\"\"\"\n",
    "    @Author: Dhananjay Kumar\n",
    "    @Date: 18-11-2024\n",
    "    @Last Modified by: Dhananjay Kumar\n",
    "    @Last Modified time: 18-11-2024\n",
    "    @Title : Probability and statistics question4\n",
    "\"\"\"\n",
    "4 . You toss a fair coin three times write a program to find following:\n",
    "a. What is the probability of three heads, HHH?\n",
    "b. What is the probability that you observe exactly one heads?\n",
    "c. Given that you have observed at least one heads, what is the probability\n",
    "that you observe at least two heads?"
   ]
  },
  {
   "cell_type": "code",
   "execution_count": 5,
   "metadata": {},
   "outputs": [
    {
     "name": "stdout",
     "output_type": "stream",
     "text": [
      "Probability of three heads, HHH: 0.125\n",
      "probability that you observe exactly one head 0.375\n",
      "probability that you observe at least two heads 0.5\n"
     ]
    }
   ],
   "source": [
    "# a. what is the probability of three heads, HHH?\n",
    "p_head = 1/2\n",
    "p_HHH = p_head**3\n",
    "print(\"Probability of three heads, HHH:\", p_HHH)\n",
    "\n",
    "# b. what is the probability that you observe exactly one head?\n",
    "total_outcomes = 2**3\n",
    "favorable_outcomes_one_head = 3  # HTT, THT, TTH\n",
    "print(f\"probability that you observe exactly one head\", favorable_outcomes_one_head/total_outcomes)\n",
    "\n",
    "# c. Given that you have observed at least one heads, what is the probability that you observe at least two heads?\n",
    "favorable_outcomes_atleast_two_head = 4 # HHH,HHT,HTH,THH\n",
    "print(f\"probability that you observe at least two heads\", favorable_outcomes_atleast_two_head/total_outcomes)"
   ]
  },
  {
   "cell_type": "markdown",
   "metadata": {},
   "source": [
    "\"\"\"\n",
    "    @Author: Dhananjay Kumar\n",
    "    @Date: 18-11-2024\n",
    "    @Last Modified by: Dhananjay Kumar\n",
    "    @Last Modified time: 18-11-2024\n",
    "    @Title : Probability and statistics question 5\n",
    "\"\"\"\n",
    "5. In my town, it's rainy one third of the days. Given that it is rainy, there will be\n",
    "heavy traffic with probability 12, and given that it is not rainy, there will be heavy traffic with\n",
    "probability 14. If it's rainy and there is heavy traffic, I arrive late for work with probability 12. On\n",
    "the other hand, the probability of being late is reduced to 18 if it is not rainy and there is no\n",
    "heavy traffic. In other situations (rainy and no traffic, not rainy and traffic) the probability of being\n",
    "late is 0.25. You pick a random day.\n",
    "\n",
    "Write a program to find following\n",
    "\n",
    "a. What is the probability that it's not raining and there is heavy traffic and I\n",
    "am not late?\n",
    "b. What is the probability that I am late?\n",
    "c. Given that I arrived late at work, what is the probability that it rained that\n",
    "day?"
   ]
  },
  {
   "cell_type": "code",
   "execution_count": 6,
   "metadata": {},
   "outputs": [
    {
     "name": "stdout",
     "output_type": "stream",
     "text": [
      "(a) Probability of not raining, heavy traffic, and not late: 0.0700\n",
      "(b) Probability of being late: 0.2047\n",
      "(c) Probability of rain given late: 0.3818\n"
     ]
    }
   ],
   "source": [
    "# Probabilities\n",
    "P_R = 1 / 3  # Probability of rain\n",
    "P_not_R = 1 - P_R  # Probability of no rain\n",
    "P_T_given_R = 0.12  # Probability of traffic given rain\n",
    "P_T_given_not_R = 0.14  # Probability of traffic given no rain\n",
    "P_L_given_R_and_T = 0.12  # Late given rain and traffic\n",
    "P_L_given_R_and_no_T = 0.25  # Late given rain and no traffic\n",
    "P_L_given_not_R_and_T = 0.25  # Late given no rain and traffic\n",
    "P_L_given_not_R_and_no_T = 0.18  # Late given no rain and no traffic\n",
    "\n",
    "# Complement probabilities\n",
    "P_no_T_given_R = 1 - P_T_given_R\n",
    "P_no_T_given_not_R = 1 - P_T_given_not_R\n",
    "\n",
    "# (a) Probability of not raining, heavy traffic, and not late\n",
    "P_not_L_given_not_R_and_T = 1 - P_L_given_not_R_and_T\n",
    "P_not_R_and_T_and_not_L = P_not_R * P_T_given_not_R * P_not_L_given_not_R_and_T\n",
    "\n",
    "# (b) Probability of being late (P(L))\n",
    "P_L = (\n",
    "    P_R * P_T_given_R * P_L_given_R_and_T\n",
    "    + P_R * P_no_T_given_R * P_L_given_R_and_no_T\n",
    "    + P_not_R * P_T_given_not_R * P_L_given_not_R_and_T\n",
    "    + P_not_R * P_no_T_given_not_R * P_L_given_not_R_and_no_T\n",
    ")\n",
    "\n",
    "# (c) Probability of rain given late (P(R|L))\n",
    "P_L_given_R = (\n",
    "    P_T_given_R * P_L_given_R_and_T + P_no_T_given_R * P_L_given_R_and_no_T\n",
    ")\n",
    "P_R_given_L = (P_L_given_R * P_R) / P_L\n",
    "\n",
    "# Display results\n",
    "print(f\"(a) Probability of not raining, heavy traffic, and not late: {P_not_R_and_T_and_not_L:.4f}\")\n",
    "print(f\"(b) Probability of being late: {P_L:.4f}\")\n",
    "print(f\"(c) Probability of rain given late: {P_R_given_L:.4f}\")\n"
   ]
  },
  {
   "cell_type": "markdown",
   "metadata": {},
   "source": [
    "\"\"\"\n",
    "    @Author: Dhananjay Kumar\n",
    "    @Date: 18-11-2024\n",
    "    @Last Modified by: Dhananjay Kumar\n",
    "    @Last Modified time: 18-11-2024\n",
    "    @Title : Probability and statistics question 6\n",
    "\"\"\"\n",
    "6. Given the following statistics, write a program to find the probability that a woman has cancer if she has a positive mammogram result? \n",
    "a. One percent of women over 50 have breast cancer. \n",
    "b. Ninety percent of women who have breast cancer test positive on \n",
    "mammograms. \n",
    "c. Eight percent of women will have false positives. "
   ]
  },
  {
   "cell_type": "code",
   "execution_count": 7,
   "metadata": {},
   "outputs": [
    {
     "name": "stdout",
     "output_type": "stream",
     "text": [
      "The probability that a woman has cancer given a positive mammogram result is 0.1020\n"
     ]
    }
   ],
   "source": [
    "# Given probabilities\n",
    "P_C = 0.01  # Probability of having cancer\n",
    "P_not_C = 1 - P_C  # Probability of not having cancer\n",
    "P_P_given_C = 0.90  # Probability of testing positive given cancer\n",
    "P_P_given_not_C = 0.08  # Probability of false positive\n",
    "\n",
    "# Total probability of testing positive\n",
    "P_P = P_P_given_C * P_C + P_P_given_not_C * P_not_C\n",
    "\n",
    "# Probability of having cancer given a positive test result\n",
    "P_C_given_P = (P_P_given_C * P_C) / P_P\n",
    "\n",
    "print(f\"The probability that a woman has cancer given a positive mammogram result is {P_C_given_P:.4f}\")"
   ]
  },
  {
   "cell_type": "markdown",
   "metadata": {},
   "source": [
    "\"\"\"\n",
    "    @Author: Dhananjay Kumar\n",
    "    @Date: 18-11-2024\n",
    "    @Last Modified by: Dhananjay Kumar\n",
    "    @Last Modified time: 18-11-2024\n",
    "    @Title : Probability and statistics question 7\n",
    "\"\"\"\n",
    "7. A bank teller serves customers standing in the queue one by one. Suppose that the service time XiXi for customer ii has mean EXi=2 (minutes) and Var(Xi)=1. We assume that service times for different bank customers are independent. Let YY be the total time the bank teller spends serving 50 customers. Write a program to find P(90<Y<110) "
   ]
  },
  {
   "cell_type": "code",
   "execution_count": 9,
   "metadata": {},
   "outputs": [
    {
     "name": "stdout",
     "output_type": "stream",
     "text": [
      "P(90 < Y < 110) = 0.8427\n"
     ]
    }
   ],
   "source": [
    "from scipy.stats import norm\n",
    "import math\n",
    "\n",
    "# Parameters\n",
    "mean_Y = 100  # Mean of Y\n",
    "std_dev_Y = math.sqrt(50)  # Standard deviation of Y\n",
    "\n",
    "# Z-scores for 90 and 110\n",
    "z_lower = (90 - mean_Y) / std_dev_Y\n",
    "z_upper = (110 - mean_Y) / std_dev_Y\n",
    "\n",
    "# Probability using the standard normal distribution\n",
    "probability = norm.cdf(z_upper) - norm.cdf(z_lower)\n",
    "\n",
    "print(f\"P(90 < Y < 110) = {probability:.4f}\")"
   ]
  },
  {
   "cell_type": "markdown",
   "metadata": {},
   "source": [
    "\"\"\"\n",
    "    @Author: Dhananjay Kumar\n",
    "    @Date: 18-11-2024\n",
    "    @Last Modified by: Dhananjay Kumar\n",
    "    @Last Modified time: 18-11-2024\n",
    "    @Title : Probability and statistics question 8\n",
    "\"\"\"\n",
    "8. In a communication system each data packet consists of 1000 bits. Due to the noise, each bit may be received in error with probability 0.1. It is assumed bit errors occur independently. Find the probability that there are more than 120 errors in a certain data packet."
   ]
  },
  {
   "cell_type": "code",
   "execution_count": 10,
   "metadata": {},
   "outputs": [
    {
     "name": "stdout",
     "output_type": "stream",
     "text": [
      "Probability of x being greater than 120 is : 0.017507490509831247\n"
     ]
    }
   ],
   "source": [
    "import scipy.stats as stats\n",
    "n=1000\n",
    "p=0.1\n",
    "x=120\n",
    "mean = n*p\n",
    "variance = n*p*(1-p)\n",
    "std_dev = variance**0.5\n",
    "\n",
    "z = (x-mean)/std_dev\n",
    "print(\"Probability of x being greater than 120 is :\",1-stats.norm.cdf(z))\n"
   ]
  },
  {
   "cell_type": "markdown",
   "metadata": {},
   "source": [
    "\"\"\"\n",
    "    @Author: Dhananjay Kumar\n",
    "    @Date: 18-11-2024\n",
    "    @Last Modified by: Dhananjay Kumar\n",
    "    @Last Modified time: 18-11-2024\n",
    "    @Title : Probability and statistics question 9\n",
    "\"\"\"\n",
    "9. In a particular pain clinic, 10% of patients are prescribed narcotic pain killers. Overall, five percent of the clinic’s patients are addicted to narcotics (including pain killers and illegal substances). Out of all the people prescribed pain pills, 8% are addicts. If a patient is an addict, write a program to find the probability that they will be prescribed pain pills? \n"
   ]
  },
  {
   "cell_type": "code",
   "execution_count": 11,
   "metadata": {},
   "outputs": [
    {
     "name": "stdout",
     "output_type": "stream",
     "text": [
      "The probability that an addict is prescribed pain pills is 0.1600\n"
     ]
    }
   ],
   "source": [
    "# Given probabilities\n",
    "P_A = 0.05  # Probability of addiction\n",
    "P_P = 0.10  # Probability of being prescribed pain pills\n",
    "P_A_given_P = 0.08  # Probability of addiction given prescription\n",
    "\n",
    "# using Bayes' theorem\n",
    "P_P_given_A = (P_A_given_P * P_P) / P_A\n",
    "\n",
    "print(f\"The probability that an addict is prescribed pain pills is {P_P_given_A:.4f}\")\n"
   ]
  },
  {
   "cell_type": "markdown",
   "metadata": {},
   "source": [
    "\"\"\"\n",
    "    @Author: Dhananjay Kumar\n",
    "    @Date: 18-11-2024\n",
    "    @Last Modified by: Dhananjay Kumar\n",
    "    @Last Modified time: 18-11-2024\n",
    "    @Title : Probability and statistics question 9\n",
    "\"\"\"\n",
    "10. X is a normally normally distributed variable with mean μ = 30 and standard deviation σ = 4. Write a program to find \n",
    "a. P(x < 40) \n",
    "b. P(x > 21) \n",
    "c. P(30 < x < 35) "
   ]
  },
  {
   "cell_type": "code",
   "execution_count": 12,
   "metadata": {},
   "outputs": [
    {
     "name": "stdout",
     "output_type": "stream",
     "text": [
      "(a) P(X < 40) = 0.9938\n",
      "(b) P(X > 21) = 0.9878\n",
      "(c) P(30 < X < 35) = 0.3944\n"
     ]
    }
   ],
   "source": [
    "from scipy.stats import norm\n",
    "\n",
    "# Given parameters\n",
    "mu = 30  # Mean\n",
    "sigma = 4  # Standard deviation\n",
    "\n",
    "# (a) P(X < 40)\n",
    "z_40 = (40 - mu) / sigma\n",
    "p_x_less_40 = norm.cdf(z_40)\n",
    "\n",
    "# (b) P(X > 21)\n",
    "z_21 = (21 - mu) / sigma\n",
    "p_x_greater_21 = 1 - norm.cdf(z_21)\n",
    "\n",
    "# (c) P(30 < X < 35)\n",
    "z_30 = (30 - mu) / sigma\n",
    "z_35 = (35 - mu) / sigma\n",
    "p_x_between_30_35 = norm.cdf(z_35) - norm.cdf(z_30)\n",
    "\n",
    "print(f\"(a) P(X < 40) = {p_x_less_40:.4f}\")\n",
    "print(f\"(b) P(X > 21) = {p_x_greater_21:.4f}\")\n",
    "print(f\"(c) P(30 < X < 35) = {p_x_between_30_35:.4f}\")"
   ]
  },
  {
   "cell_type": "markdown",
   "metadata": {},
   "source": [
    "11. A radar unit is used to measure speeds of cars on a motorway. The speeds are normally distributed with a mean of 90 km/hr and a standard deviation of 10 km/hr. Write a program to find the probability that a car picked at random is travelling at more than 100 km/hr? "
   ]
  },
  {
   "cell_type": "code",
   "execution_count": 13,
   "metadata": {},
   "outputs": [
    {
     "name": "stdout",
     "output_type": "stream",
     "text": [
      "The probability that a car is travelling at more than 100 km/hr is 0.1587\n"
     ]
    }
   ],
   "source": [
    "from scipy.stats import norm\n",
    "\n",
    "# Given parameters\n",
    "mu = 90  # Mean\n",
    "sigma = 10  # Standard deviation\n",
    "speed = 100  # Speed to compare\n",
    "\n",
    "# Calculate Z-score\n",
    "z = (speed - mu) / sigma\n",
    "\n",
    "# Find probability\n",
    "probability = 1 - norm.cdf(z)\n",
    "\n",
    "print(f\"The probability that a car is travelling at more than 100 km/hr is {probability:.4f}\")\n"
   ]
  },
  {
   "cell_type": "code",
   "execution_count": null,
   "metadata": {},
   "outputs": [],
   "source": []
  }
 ],
 "metadata": {
  "kernelspec": {
   "display_name": "venv",
   "language": "python",
   "name": "python3"
  },
  "language_info": {
   "codemirror_mode": {
    "name": "ipython",
    "version": 3
   },
   "file_extension": ".py",
   "mimetype": "text/x-python",
   "name": "python",
   "nbconvert_exporter": "python",
   "pygments_lexer": "ipython3",
   "version": "3.12.6"
  }
 },
 "nbformat": 4,
 "nbformat_minor": 2
}
