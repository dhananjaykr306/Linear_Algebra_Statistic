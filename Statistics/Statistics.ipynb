{
 "cells": [
  {
   "cell_type": "markdown",
   "metadata": {},
   "source": [
    "'''\n",
    "    @Author: Dhananjay Kumar\n",
    "    @Date: 18-11-2024\n",
    "    @Last Modified by: Dhananjay Kumar\n",
    "    @Last Modified time: 18-11-2024\n",
    "    @Title : Probability and statistics question1\n",
    "\"\"\"\n",
    "1. Write a program to find probability of drawing an ace from pack of cards"
   ]
  },
  {
   "cell_type": "code",
   "execution_count": 1,
   "metadata": {},
   "outputs": [
    {
     "name": "stdout",
     "output_type": "stream",
     "text": [
      "Probability of getting an Ace:  0.07692307692307693\n"
     ]
    }
   ],
   "source": [
    "no_of_ace = 4\n",
    "total_cards = 52\n",
    "\n",
    "prob_ace = no_of_ace/total_cards\n",
    "print(\"Probability of getting an Ace: \", prob_ace)"
   ]
  },
  {
   "cell_type": "markdown",
   "metadata": {},
   "source": [
    "'''\n",
    "    @Author: Dhananjay Kumar\n",
    "    @Date: 18-11-2024\n",
    "    @Last Modified by: Dhananjay Kumar\n",
    "    @Last Modified time: 18-11-2024\n",
    "    @Title : Probability and statistics question2\"\"\"\n",
    "    2. Write a program to find the probability of drawing an ace after drawing a king on the first draw"
   ]
  },
  {
   "cell_type": "code",
   "execution_count": 3,
   "metadata": {},
   "outputs": [
    {
     "name": "stdout",
     "output_type": "stream",
     "text": [
      "probability of drawing an ace after drawing a king on the first draw: 0.0784313725490196\n"
     ]
    }
   ],
   "source": [
    "total_cards = 52\n",
    "no_of_ace = 4\n",
    "no_of_king = 4\n",
    "\n",
    "#total cards after drawing a King card\n",
    "remaining_cards = total_cards - 1\n",
    "print(f\"probability of drawing an ace after drawing a king on the first draw: {no_of_ace/remaining_cards}\")"
   ]
  },
  {
   "cell_type": "markdown",
   "metadata": {},
   "source": [
    "\"\"\"\n",
    "    @Author: Dhananjay Kumar\n",
    "    @Date: 18-11-2024\n",
    "    @Last Modified by: Dhananjay Kumar\n",
    "    @Last Modified time: 18-11-2024\n",
    "    @Title : Probability and statistics question3\n",
    "\"\"\"\n",
    "3.Write a program to find the probability of drawing an ace after drawing an ace on the first draw"
   ]
  },
  {
   "cell_type": "code",
   "execution_count": 4,
   "metadata": {},
   "outputs": [
    {
     "name": "stdout",
     "output_type": "stream",
     "text": [
      "probability of drawing an ace card : 0.058823529411764705\n"
     ]
    }
   ],
   "source": [
    "total_cards = 52\n",
    "num_of_aces = 4\n",
    "# total cards after drawing a ace card\n",
    "remaining_cards = total_cards - 1\n",
    "remaining_ace_card = num_of_aces -1\n",
    "\n",
    "print(f\"probability of drawing an ace card : {remaining_ace_card/remaining_cards}\")"
   ]
  },
  {
   "cell_type": "markdown",
   "metadata": {},
   "source": [
    "\"\"\"\n",
    "    @Author: Dhananjay Kumar\n",
    "    @Date: 18-11-2024\n",
    "    @Last Modified by: Dhananjay Kumar\n",
    "    @Last Modified time: 18-11-2024\n",
    "    @Title : Probability and statistics question4\n",
    "\"\"\"\n",
    "You toss a fair coin three times write a program to find following:\n",
    "a. What is the probability of three heads, HHH?\n",
    "b. What is the probability that you observe exactly one heads?\n",
    "c. Given that you have observed at least one heads, what is the probability\n",
    "that you observe at least two heads?"
   ]
  },
  {
   "cell_type": "code",
   "execution_count": 5,
   "metadata": {},
   "outputs": [
    {
     "name": "stdout",
     "output_type": "stream",
     "text": [
      "Probability of three heads, HHH: 0.125\n",
      "probability that you observe exactly one head 0.375\n",
      "probability that you observe at least two heads 0.5\n"
     ]
    }
   ],
   "source": [
    "# a. what is the probability of three heads, HHH?\n",
    "p_head = 1/2\n",
    "p_HHH = p_head**3\n",
    "print(\"Probability of three heads, HHH:\", p_HHH)\n",
    "\n",
    "# b. what is the probability that you observe exactly one head?\n",
    "total_outcomes = 2**3\n",
    "favorable_outcomes_one_head = 3  # HTT, THT, TTH\n",
    "print(f\"probability that you observe exactly one head\", favorable_outcomes_one_head/total_outcomes)\n",
    "\n",
    "# c. Given that you have observed at least one heads, what is the probability that you observe at least two heads?\n",
    "favorable_outcomes_atleast_two_head = 4 # HHH,HHT,HTH,THH\n",
    "print(f\"probability that you observe at least two heads\", favorable_outcomes_atleast_two_head/total_outcomes)"
   ]
  },
  {
   "cell_type": "code",
   "execution_count": null,
   "metadata": {},
   "outputs": [],
   "source": []
  }
 ],
 "metadata": {
  "kernelspec": {
   "display_name": "venv",
   "language": "python",
   "name": "python3"
  },
  "language_info": {
   "codemirror_mode": {
    "name": "ipython",
    "version": 3
   },
   "file_extension": ".py",
   "mimetype": "text/x-python",
   "name": "python",
   "nbconvert_exporter": "python",
   "pygments_lexer": "ipython3",
   "version": "3.12.6"
  }
 },
 "nbformat": 4,
 "nbformat_minor": 2
}
