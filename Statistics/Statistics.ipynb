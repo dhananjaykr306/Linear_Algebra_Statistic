{
 "cells": [
  {
   "cell_type": "markdown",
   "metadata": {},
   "source": [
    "'''\n",
    "    @Author: Dhananjay Kumar\n",
    "    @Date: 18-11-2024\n",
    "    @Last Modified by: Dhananjay Kumar\n",
    "    @Last Modified time: 18-11-2024\n",
    "    @Title : Probability and statistics question1\n",
    "\"\"\"\n",
    "1. Write a program to find probability of drawing an ace from pack of cards"
   ]
  },
  {
   "cell_type": "code",
   "execution_count": 1,
   "metadata": {},
   "outputs": [
    {
     "name": "stdout",
     "output_type": "stream",
     "text": [
      "Probability of getting an Ace:  0.07692307692307693\n"
     ]
    }
   ],
   "source": [
    "no_of_ace = 4\n",
    "total_cards = 52\n",
    "\n",
    "prob_ace = no_of_ace/total_cards\n",
    "print(\"Probability of getting an Ace: \", prob_ace)"
   ]
  },
  {
   "cell_type": "code",
   "execution_count": null,
   "metadata": {},
   "outputs": [],
   "source": []
  }
 ],
 "metadata": {
  "kernelspec": {
   "display_name": "venv",
   "language": "python",
   "name": "python3"
  },
  "language_info": {
   "codemirror_mode": {
    "name": "ipython",
    "version": 3
   },
   "file_extension": ".py",
   "mimetype": "text/x-python",
   "name": "python",
   "nbconvert_exporter": "python",
   "pygments_lexer": "ipython3",
   "version": "3.12.6"
  }
 },
 "nbformat": 4,
 "nbformat_minor": 2
}
