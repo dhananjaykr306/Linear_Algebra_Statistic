{
 "cells": [
  {
   "cell_type": "markdown",
   "metadata": {},
   "source": [
    "Write a python program to add below matrices\n",
    "X = [[12,7,3], [4 ,5,6], [7 ,8,9]] Y = [[5,8,1],\n",
    "\n",
    "[6,7,3], [4,5,9]]\n",
    "\n",
    "''' \n",
    "    @Author: Dhananjay Kumar\n",
    "    @Date: 18-11-2024 \n",
    "    @Last Modified by: Dhananjay Kumar \n",
    "    @Last Modified time: 18-11-2024 \n",
    "    @Title : Linear Algebra Question 1.\n",
    "'''"
   ]
  },
  {
   "cell_type": "code",
   "execution_count": 6,
   "metadata": {},
   "outputs": [],
   "source": [
    "import numpy as np"
   ]
  },
  {
   "cell_type": "code",
   "execution_count": 7,
   "metadata": {},
   "outputs": [
    {
     "name": "stdout",
     "output_type": "stream",
     "text": [
      "Resultant Matrix:\n",
      "[np.int64(17), np.int64(15), np.int64(4)]\n",
      "[np.int64(10), np.int64(12), np.int64(9)]\n",
      "[np.int64(11), np.int64(13), np.int64(18)]\n"
     ]
    }
   ],
   "source": [
    "X =np.array( [[12, 7, 3],[4, 5, 6],[7, 8, 9]])\n",
    "Y = np.array([ [5, 8, 1],[6, 7, 3],[4, 5, 9]])\n",
    "\n",
    "result = [[0, 0, 0],\n",
    "          [0, 0, 0],\n",
    "          [0, 0, 0]]\n",
    "\n",
    "for i in range(len(X)): \n",
    "    for j in range(len(X[0])): \n",
    "        result[i][j] = X[i][j] + Y[i][j]\n",
    "\n",
    "print(\"Resultant Matrix:\")\n",
    "for row in result:\n",
    "    print(row)"
   ]
  },
  {
   "cell_type": "markdown",
   "metadata": {},
   "source": [
    "''' \n",
    "    @Author: Dhananjay Kumar \n",
    "    @Date: 18-11-2024 \n",
    "    @Last Modified by: Dhananjay Kumar \n",
    "    @Last Modified time: 18-11-2024\n",
    "    @Title : Linear Algebra Question 2 \n",
    "''' 2. Write a program to perform scalar multiplication of matrix and a number'''\n"
   ]
  },
  {
   "cell_type": "code",
   "execution_count": 9,
   "metadata": {},
   "outputs": [
    {
     "name": "stdout",
     "output_type": "stream",
     "text": [
      "[[108  63  27]\n",
      " [ 36  45  54]\n",
      " [ 63  72  81]]\n"
     ]
    }
   ],
   "source": [
    "X = [[12,7,3], [4 ,5,6], [7 ,8,9]] \n",
    "Y = 9\n",
    "import numpy as np\n",
    "Y = 9\n",
    "x = np.array([[12,7,3],[4 ,5,6],[7 ,8,9]])\n",
    "a = np.ones((3,3))\n",
    "a = Y*x\n",
    "print(a)"
   ]
  },
  {
   "cell_type": "markdown",
   "metadata": {},
   "source": [
    "'''\n",
    "    @Author: Dhananjay Kumar \n",
    "    @Date: 18-11-2024 \n",
    "    @Last Modified by: Dhananjay Kumar \n",
    "    @Last Modified time: 18-11-2024 \n",
    "    @Title : Linear Algebra Question 3 \n",
    "''''\n",
    " '''\n",
    "3. Write a program to perform multiplication of given matrix and vector X = [[ 5, 1 ,3], [ 1, 1 ,1], [ 1, 2 ,1]], Y = [1, 2, 3]\n",
    "\n",
    "'''"
   ]
  },
  {
   "cell_type": "code",
   "execution_count": 10,
   "metadata": {},
   "outputs": [
    {
     "name": "stdout",
     "output_type": "stream",
     "text": [
      "[[16.]\n",
      " [ 6.]\n",
      " [ 8.]]\n"
     ]
    }
   ],
   "source": [
    "X = np.array([[ 5, 1 ,3], [ 1, 1 ,1], [ 1, 2 ,1]])\n",
    "Y = np.array([1, 2, 3])\n",
    "\n",
    "z=np.zeros((3,1))\n",
    "for i in range(len(X)): \n",
    "    for j in range(len(Y)): \n",
    "        z[i] += X[i][j] * Y[j]\n",
    "\n",
    "print(z)"
   ]
  },
  {
   "cell_type": "markdown",
   "metadata": {},
   "source": [
    "''' \n",
    "    @Author: Dhananjay Kumar\n",
    "    @Date: 18-11-2024\n",
    "    @Last Modified by: Dhananjay Kumar\n",
    "    @Last Modified time: 18-11-2024\n",
    "    @Title : Linear Algebra Question 4\"\"\" \n",
    "    4. Write a program to multiply matrices in problem 1\n",
    "'''\n"
   ]
  },
  {
   "cell_type": "code",
   "execution_count": 14,
   "metadata": {},
   "outputs": [],
   "source": [
    "X =np.array( [[12, 7, 3],[4, 5, 6],[7, 8, 9]])\n",
    "Y = np.array([ [5, 8, 1],[6, 7, 3],[4, 5, 9]])"
   ]
  },
  {
   "cell_type": "code",
   "execution_count": 15,
   "metadata": {},
   "outputs": [
    {
     "name": "stdout",
     "output_type": "stream",
     "text": [
      "[[114. 160.  60.]\n",
      " [ 74.  97.  73.]\n",
      " [119. 157. 112.]]\n"
     ]
    }
   ],
   "source": [
    "z = np.zeros((3,3))\n",
    "for i in range(len(X)):\n",
    "    for j in range(len(Y[0])):\n",
    "        for k in range(len(Y)):\n",
    "            z[i][j] += X[i][k]*Y[k][j]\n",
    "print(z)\n",
    "\n"
   ]
  },
  {
   "cell_type": "markdown",
   "metadata": {},
   "source": [
    "\n",
    "\"\"\"\n",
    "  @Author: Dhananjay Kumar\n",
    "  @Date: 18-11-2024\n",
    "  @Last Modified by: Dhananjay Kumar \n",
    "  @Last Modified time: 18-11-2024 \n",
    "  @Title : Linear Algebra Question 5\n",
    "\"\"\" \n",
    "  5. Write a program to find inverse matrix of matrix X in problem 1"
   ]
  },
  {
   "cell_type": "code",
   "execution_count": 16,
   "metadata": {},
   "outputs": [
    {
     "name": "stdout",
     "output_type": "stream",
     "text": [
      "Inverse of X: \n",
      " [[  1.          13.          -9.        ]\n",
      " [ -2.         -29.          20.        ]\n",
      " [  1.          15.66666667 -10.66666667]]\n"
     ]
    }
   ],
   "source": [
    "X\n",
    "a = np.linalg.inv(X)\n",
    "print(\"Inverse of X: \\n\", a)\n"
   ]
  },
  {
   "cell_type": "markdown",
   "metadata": {},
   "source": [
    "''' \n",
    "    @Author: Dhananjay Kumar \n",
    "    @Date: 18-11-2024 \n",
    "    @Last Modified by: Dhananjay Kumar \n",
    "    @Last Modified time: 18-11-2024 \n",
    "    @Title : Linear Algebra Question 6\n",
    "'''\n",
    "\"\"\" 6. Write a program to find transpose matrix of matrix Y in problem 1\"\"\""
   ]
  },
  {
   "cell_type": "code",
   "execution_count": null,
   "metadata": {},
   "outputs": [],
   "source": [
    "def transpose(X):\n",
    "    y=np.zeros((X.shape[1],X.shape[0]))\n",
    "    for i in range(X.shape[0]):\n",
    "        for j in range(X.shape[1]):\n",
    "            y[j][i]=X[i][j]\n",
    "    return y\n",
    "print(\"Transpose of a matrix X is : \\n\",transpose(X))"
   ]
  }
 ],
 "metadata": {
  "kernelspec": {
   "display_name": "venv",
   "language": "python",
   "name": "python3"
  },
  "language_info": {
   "codemirror_mode": {
    "name": "ipython",
    "version": 3
   },
   "file_extension": ".py",
   "mimetype": "text/x-python",
   "name": "python",
   "nbconvert_exporter": "python",
   "pygments_lexer": "ipython3",
   "version": "3.12.6"
  }
 },
 "nbformat": 4,
 "nbformat_minor": 2
}
